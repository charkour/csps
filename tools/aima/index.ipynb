{
 "cells": [
  {
   "cell_type": "markdown",
   "metadata": {},
   "source": [
    "# AIMA Python Binder Index\n",
    "\n",
    "Welcome to the AIMA Python Code Repository. You should be seeing this index notebook if you clicked on the **Launch Binder** button on the [repository](https://github.com/aimacode/aima-python). If you are viewing this notebook directly on Github we suggest that you use the **Launch Binder** button instead. Binder allows you to experiment with all the code in the browser itself without the need of installing anything on your local machine. Below is the list of notebooks that should assist you in navigating the different notebooks available. \n",
    "\n",
    "If you are completely new to AIMA Python or Jupyter Notebooks we suggest that you start with the Introduction Notebook.\n",
    "\n",
    "# List of Notebooks\n",
    "\n",
    "1. [**Introduction**](./intro.ipynb)\n",
    "\n",
    "2. [**Agents**](./agents.ipynb)\n",
    "\n",
    "3. [**Search**](./search.ipynb)\n",
    "\n",
    "4. [**Search - 4th edition**](./search-4e.ipynb)\n",
    "\n",
    "4. [**Games**](./games.ipynb)\n",
    "\n",
    "5. [**Constraint Satisfaction Problems**](./csp.ipynb)\n",
    "\n",
    "6. [**Logic**](./logic.ipynb)\n",
    "\n",
    "7. [**Planning**](./planning.ipynb)\n",
    "\n",
    "8. [**Probability**](./probability.ipynb)\n",
    "\n",
    "9. [**Markov Decision Processes**](./mdp.ipynb)\n",
    "\n",
    "10. [**Learning**](./learning.ipynb)\n",
    "\n",
    "11. [**Reinforcement Learning**](./rl.ipynb)\n",
    "\n",
    "12. [**Statistical Language Processing Tools**](./text.ipynb)\n",
    "\n",
    "13. [**Natural Language Processing**](./nlp.ipynb)\n",
    "\n",
    "Besides the notebooks it is also possible to make direct modifications to the Python/JS code. To view/modify the complete set of files [click here](.) to view the Directory structure."
   ]
  }
 ],
 "metadata": {
  "kernelspec": {
   "display_name": "Python 3",
   "language": "python",
   "name": "python3"
  },
  "language_info": {
   "codemirror_mode": {
    "name": "ipython",
    "version": 3
   },
   "file_extension": ".py",
   "mimetype": "text/x-python",
   "name": "python",
   "nbconvert_exporter": "python",
   "pygments_lexer": "ipython3",
   "version": "3.5.1"
  }
 },
 "nbformat": 4,
 "nbformat_minor": 0
}
